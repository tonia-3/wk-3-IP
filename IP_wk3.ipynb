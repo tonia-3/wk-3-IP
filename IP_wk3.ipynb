{
  "nbformat": 4,
  "nbformat_minor": 0,
  "metadata": {
    "colab": {
      "name": "IP wk3.ipynb",
      "provenance": [],
      "authorship_tag": "ABX9TyNmgJBXVrVJhEyQZEjC5TJp",
      "include_colab_link": true
    },
    "kernelspec": {
      "name": "python3",
      "display_name": "Python 3"
    },
    "language_info": {
      "name": "python"
    }
  },
  "cells": [
    {
      "cell_type": "markdown",
      "metadata": {
        "id": "view-in-github",
        "colab_type": "text"
      },
      "source": [
        "<a href=\"https://colab.research.google.com/github/tonia-3/wk-3-IP/blob/main/IP_wk3.ipynb\" target=\"_parent\"><img src=\"https://colab.research.google.com/assets/colab-badge.svg\" alt=\"Open In Colab\"/></a>"
      ]
    },
    {
      "cell_type": "markdown",
      "metadata": {
        "id": "0jvS9kROk3p_"
      },
      "source": [
        "####MTN COTE-D'IVOIRE PROJECT\n"
      ]
    },
    {
      "cell_type": "code",
      "metadata": {
        "colab": {
          "base_uri": "https://localhost:8080/",
          "height": 289
        },
        "id": "fp6XnwMxZWoP",
        "outputId": "699b7b5d-f01f-4094-952c-35ae0d337117"
      },
      "source": [
        "#importing the cell geo dataset\n",
        "url ='/content/cells_geo.csv'\n",
        "df_cells = pd.read_csv(url,delimiter=';', header =1, names = ['City','Status','Locality','Geographical_Zone','Zone_Name','Longitude','Latitude','Region','Area','Cell_ID','Site_ID'])\n",
        "\n",
        "df_cells.head()"
      ],
      "execution_count": null,
      "outputs": [
        {
          "output_type": "execute_result",
          "data": {
            "text/html": [
              "<div>\n",
              "<style scoped>\n",
              "    .dataframe tbody tr th:only-of-type {\n",
              "        vertical-align: middle;\n",
              "    }\n",
              "\n",
              "    .dataframe tbody tr th {\n",
              "        vertical-align: top;\n",
              "    }\n",
              "\n",
              "    .dataframe thead th {\n",
              "        text-align: right;\n",
              "    }\n",
              "</style>\n",
              "<table border=\"1\" class=\"dataframe\">\n",
              "  <thead>\n",
              "    <tr style=\"text-align: right;\">\n",
              "      <th></th>\n",
              "      <th>City</th>\n",
              "      <th>Status</th>\n",
              "      <th>Locality</th>\n",
              "      <th>Geographical_Zone</th>\n",
              "      <th>Zone_Name</th>\n",
              "      <th>Longitude</th>\n",
              "      <th>Latitude</th>\n",
              "      <th>Region</th>\n",
              "      <th>Area</th>\n",
              "      <th>Cell_ID</th>\n",
              "      <th>Site_ID</th>\n",
              "    </tr>\n",
              "  </thead>\n",
              "  <tbody>\n",
              "    <tr>\n",
              "      <th>1</th>\n",
              "      <td>ADJAME</td>\n",
              "      <td>In Service</td>\n",
              "      <td>ABIDJAN</td>\n",
              "      <td>\"Abidjan_EST</td>\n",
              "      <td>AGBANNEW</td>\n",
              "      <td>-4.000667</td>\n",
              "      <td>5.368194</td>\n",
              "      <td>LAGUNE</td>\n",
              "      <td>NaN</td>\n",
              "      <td>1502501d78</td>\n",
              "      <td>0bb492ef17</td>\n",
              "    </tr>\n",
              "    <tr>\n",
              "      <th>2</th>\n",
              "      <td>ADJAME</td>\n",
              "      <td>In Service</td>\n",
              "      <td>ABIDJAN</td>\n",
              "      <td>\"Abidjan_EST</td>\n",
              "      <td>AGBANNEW</td>\n",
              "      <td>-4.000667</td>\n",
              "      <td>5.368194</td>\n",
              "      <td>LAGUNE</td>\n",
              "      <td>NaN</td>\n",
              "      <td>0c2e182a0c</td>\n",
              "      <td>0bb492ef17</td>\n",
              "    </tr>\n",
              "    <tr>\n",
              "      <th>3</th>\n",
              "      <td>ASSINIE</td>\n",
              "      <td>In Service</td>\n",
              "      <td>INTERIEUR</td>\n",
              "      <td>Grand-EST</td>\n",
              "      <td>ASSINIE\"</td>\n",
              "      <td>-3.488467</td>\n",
              "      <td>5.158761</td>\n",
              "      <td>SUD COMOE</td>\n",
              "      <td>NaN</td>\n",
              "      <td>69bdfc69fd</td>\n",
              "      <td>8a1e6ce31f</td>\n",
              "    </tr>\n",
              "    <tr>\n",
              "      <th>4</th>\n",
              "      <td>ASSINIE</td>\n",
              "      <td>In Service</td>\n",
              "      <td>INTERIEUR</td>\n",
              "      <td>Grand-EST</td>\n",
              "      <td>ASSINIE\"</td>\n",
              "      <td>-3.488467</td>\n",
              "      <td>5.158761</td>\n",
              "      <td>SUD COMOE</td>\n",
              "      <td>NaN</td>\n",
              "      <td>7a1029d2ab</td>\n",
              "      <td>8a1e6ce31f</td>\n",
              "    </tr>\n",
              "    <tr>\n",
              "      <th>5</th>\n",
              "      <td>ASSINIE</td>\n",
              "      <td>In Service</td>\n",
              "      <td>INTERIEUR</td>\n",
              "      <td>Grand-EST</td>\n",
              "      <td>ASSINIE\"</td>\n",
              "      <td>-3.488467</td>\n",
              "      <td>5.158761</td>\n",
              "      <td>SUD COMOE</td>\n",
              "      <td>NaN</td>\n",
              "      <td>0b4f56438f</td>\n",
              "      <td>8a1e6ce31f</td>\n",
              "    </tr>\n",
              "  </tbody>\n",
              "</table>\n",
              "</div>"
            ],
            "text/plain": [
              "      City      Status   Locality  ... Area     Cell_ID     Site_ID\n",
              "1   ADJAME  In Service    ABIDJAN  ...  NaN  1502501d78  0bb492ef17\n",
              "2   ADJAME  In Service    ABIDJAN  ...  NaN  0c2e182a0c  0bb492ef17\n",
              "3  ASSINIE  In Service  INTERIEUR  ...  NaN  69bdfc69fd  8a1e6ce31f\n",
              "4  ASSINIE  In Service  INTERIEUR  ...  NaN  7a1029d2ab  8a1e6ce31f\n",
              "5  ASSINIE  In Service  INTERIEUR  ...  NaN  0b4f56438f  8a1e6ce31f\n",
              "\n",
              "[5 rows x 11 columns]"
            ]
          },
          "metadata": {},
          "execution_count": 2
        }
      ]
    },
    {
      "cell_type": "code",
      "metadata": {
        "colab": {
          "base_uri": "https://localhost:8080/",
          "height": 394
        },
        "id": "E7KrqhUXZnuv",
        "outputId": "01cf66a4-7f8f-4b45-86ab-359d8d9d6645"
      },
      "source": [
        "#importing CDR 20120507\n",
        "url ='/content/Telcom_dataset.csv'\n",
        "df_07 = pd.read_csv(url,header =0, names = ['Product','Value','Date_Time','Cell_On_Site','Party_A_Number','Party_B_Number','Country_A','Country_B','Cell_ID','Site_ID'])\n",
        "df_07.head()"
      ],
      "execution_count": 4,
      "outputs": [
        {
          "output_type": "execute_result",
          "data": {
            "text/html": [
              "<div>\n",
              "<style scoped>\n",
              "    .dataframe tbody tr th:only-of-type {\n",
              "        vertical-align: middle;\n",
              "    }\n",
              "\n",
              "    .dataframe tbody tr th {\n",
              "        vertical-align: top;\n",
              "    }\n",
              "\n",
              "    .dataframe thead th {\n",
              "        text-align: right;\n",
              "    }\n",
              "</style>\n",
              "<table border=\"1\" class=\"dataframe\">\n",
              "  <thead>\n",
              "    <tr style=\"text-align: right;\">\n",
              "      <th></th>\n",
              "      <th>Product</th>\n",
              "      <th>Value</th>\n",
              "      <th>Date_Time</th>\n",
              "      <th>Cell_On_Site</th>\n",
              "      <th>Party_A_Number</th>\n",
              "      <th>Party_B_Number</th>\n",
              "      <th>Country_A</th>\n",
              "      <th>Country_B</th>\n",
              "      <th>Cell_ID</th>\n",
              "      <th>Site_ID</th>\n",
              "    </tr>\n",
              "  </thead>\n",
              "  <tbody>\n",
              "    <tr>\n",
              "      <th>0</th>\n",
              "      <td>Voice</td>\n",
              "      <td>0</td>\n",
              "      <td>2012-05-06 23:04:37.0</td>\n",
              "      <td>1</td>\n",
              "      <td>49fae048b547780</td>\n",
              "      <td>1a49f8b0ded9de6</td>\n",
              "      <td>19e2e</td>\n",
              "      <td>19e2e</td>\n",
              "      <td>/TJNe+Mmtu</td>\n",
              "      <td>/TJNe+Mmtu</td>\n",
              "    </tr>\n",
              "    <tr>\n",
              "      <th>1</th>\n",
              "      <td>sms</td>\n",
              "      <td>0</td>\n",
              "      <td>2012-05-06 23:05:25.0</td>\n",
              "      <td>0</td>\n",
              "      <td>7a54a6eaee19e65</td>\n",
              "      <td>93343ba6e41af95</td>\n",
              "      <td>19e2e</td>\n",
              "      <td>19e2e</td>\n",
              "      <td>/+cKZKIp41</td>\n",
              "      <td>/+cKZKIp41</td>\n",
              "    </tr>\n",
              "    <tr>\n",
              "      <th>2</th>\n",
              "      <td>sms</td>\n",
              "      <td>25</td>\n",
              "      <td>2012-05-06 23:05:41.0</td>\n",
              "      <td>0</td>\n",
              "      <td>6008887b0207d82</td>\n",
              "      <td>7aacc9709ce0a20</td>\n",
              "      <td>19e2e</td>\n",
              "      <td>19e2e</td>\n",
              "      <td>/u0FSD+ahi</td>\n",
              "      <td>/u0FSD+ahi</td>\n",
              "    </tr>\n",
              "    <tr>\n",
              "      <th>3</th>\n",
              "      <td>Voice</td>\n",
              "      <td>56</td>\n",
              "      <td>2012-05-06 23:05:42.0</td>\n",
              "      <td>1</td>\n",
              "      <td>7370032e20f4e96</td>\n",
              "      <td>6af4a60e74c91d3</td>\n",
              "      <td>19e2e</td>\n",
              "      <td>19e2e</td>\n",
              "      <td>+cNeJzsTp3</td>\n",
              "      <td>+cNeJzsTp3</td>\n",
              "    </tr>\n",
              "    <tr>\n",
              "      <th>4</th>\n",
              "      <td>Voice</td>\n",
              "      <td>14</td>\n",
              "      <td>2012-05-06 23:06:29.0</td>\n",
              "      <td>1</td>\n",
              "      <td>966ba4656e38e62</td>\n",
              "      <td>02aa736ee555d5c</td>\n",
              "      <td>19e2e</td>\n",
              "      <td>19e2e</td>\n",
              "      <td>051KhYDCpv</td>\n",
              "      <td>051KhYDCpv</td>\n",
              "    </tr>\n",
              "  </tbody>\n",
              "</table>\n",
              "</div>"
            ],
            "text/plain": [
              "  Product  Value              Date_Time  ... Country_B     Cell_ID     Site_ID\n",
              "0   Voice      0  2012-05-06 23:04:37.0  ...     19e2e  /TJNe+Mmtu  /TJNe+Mmtu\n",
              "1     sms      0  2012-05-06 23:05:25.0  ...     19e2e  /+cKZKIp41  /+cKZKIp41\n",
              "2     sms     25  2012-05-06 23:05:41.0  ...     19e2e  /u0FSD+ahi  /u0FSD+ahi\n",
              "3   Voice     56  2012-05-06 23:05:42.0  ...     19e2e  +cNeJzsTp3  +cNeJzsTp3\n",
              "4   Voice     14  2012-05-06 23:06:29.0  ...     19e2e  051KhYDCpv  051KhYDCpv\n",
              "\n",
              "[5 rows x 10 columns]"
            ]
          },
          "metadata": {},
          "execution_count": 4
        }
      ]
    },
    {
      "cell_type": "code",
      "metadata": {
        "colab": {
          "base_uri": "https://localhost:8080/",
          "height": 394
        },
        "id": "xXLK6O_bbs-t",
        "outputId": "f8e0f959-3d3c-4a52-9800-f43a191d9858"
      },
      "source": [
        "#importing CDR 20120508\n",
        "url = '/content/Telcom_dataset2.csv'\n",
        "df_08 = pd.read_csv(url,header =1, names = ['Product','Value','Date_Time','Cell_On_Site','Party_A_Number','Party_B_Number','Country_A','Country_B','Cell_ID','Site_ID'])\n",
        "df_08.head()"
      ],
      "execution_count": 5,
      "outputs": [
        {
          "output_type": "execute_result",
          "data": {
            "text/html": [
              "<div>\n",
              "<style scoped>\n",
              "    .dataframe tbody tr th:only-of-type {\n",
              "        vertical-align: middle;\n",
              "    }\n",
              "\n",
              "    .dataframe tbody tr th {\n",
              "        vertical-align: top;\n",
              "    }\n",
              "\n",
              "    .dataframe thead th {\n",
              "        text-align: right;\n",
              "    }\n",
              "</style>\n",
              "<table border=\"1\" class=\"dataframe\">\n",
              "  <thead>\n",
              "    <tr style=\"text-align: right;\">\n",
              "      <th></th>\n",
              "      <th>Product</th>\n",
              "      <th>Value</th>\n",
              "      <th>Date_Time</th>\n",
              "      <th>Cell_On_Site</th>\n",
              "      <th>Party_A_Number</th>\n",
              "      <th>Party_B_Number</th>\n",
              "      <th>Country_A</th>\n",
              "      <th>Country_B</th>\n",
              "      <th>Cell_ID</th>\n",
              "      <th>Site_ID</th>\n",
              "    </tr>\n",
              "  </thead>\n",
              "  <tbody>\n",
              "    <tr>\n",
              "      <th>0</th>\n",
              "      <td>Voice</td>\n",
              "      <td>0</td>\n",
              "      <td>2012-05-07 23:03:44.0</td>\n",
              "      <td>1</td>\n",
              "      <td>ff16d6ac74c1c64</td>\n",
              "      <td>87d87309c15a8c9</td>\n",
              "      <td>19e2e</td>\n",
              "      <td>19e2e</td>\n",
              "      <td>+854AcBQT2</td>\n",
              "      <td>+854AcBQT2</td>\n",
              "    </tr>\n",
              "    <tr>\n",
              "      <th>1</th>\n",
              "      <td>sms</td>\n",
              "      <td>0</td>\n",
              "      <td>2012-05-07 23:04:06.0</td>\n",
              "      <td>0</td>\n",
              "      <td>98d9f2fb5ff624b</td>\n",
              "      <td>93343ba6e41af95</td>\n",
              "      <td>19e2e</td>\n",
              "      <td>19e2e</td>\n",
              "      <td>+laSrk7g6q</td>\n",
              "      <td>+laSrk7g6q</td>\n",
              "    </tr>\n",
              "    <tr>\n",
              "      <th>2</th>\n",
              "      <td>Voice</td>\n",
              "      <td>37</td>\n",
              "      <td>2012-05-07 23:04:48.0</td>\n",
              "      <td>1</td>\n",
              "      <td>3f9c8a33ec7be1f</td>\n",
              "      <td>7d05a38f89c49d8</td>\n",
              "      <td>19e2e</td>\n",
              "      <td>19e2e</td>\n",
              "      <td>/xvRrCVKoQ</td>\n",
              "      <td>/xvRrCVKoQ</td>\n",
              "    </tr>\n",
              "    <tr>\n",
              "      <th>3</th>\n",
              "      <td>sms</td>\n",
              "      <td>25</td>\n",
              "      <td>2012-05-07 23:04:58.0</td>\n",
              "      <td>1</td>\n",
              "      <td>7bcccc03adf3864</td>\n",
              "      <td>56a5d5430d2fa86</td>\n",
              "      <td>19e2e</td>\n",
              "      <td>19e2e</td>\n",
              "      <td>+bO+qkSonO</td>\n",
              "      <td>+bO+qkSonO</td>\n",
              "    </tr>\n",
              "    <tr>\n",
              "      <th>4</th>\n",
              "      <td>sms</td>\n",
              "      <td>0</td>\n",
              "      <td>2012-05-07 23:05:41.0</td>\n",
              "      <td>4</td>\n",
              "      <td>d73f11fdc9fcb30</td>\n",
              "      <td>ec90fdb12b50cbc</td>\n",
              "      <td>19e2e</td>\n",
              "      <td>19e2e</td>\n",
              "      <td>/MMplBlWjh</td>\n",
              "      <td>/MMplBlWjh</td>\n",
              "    </tr>\n",
              "  </tbody>\n",
              "</table>\n",
              "</div>"
            ],
            "text/plain": [
              "  Product  Value              Date_Time  ... Country_B     Cell_ID     Site_ID\n",
              "0   Voice      0  2012-05-07 23:03:44.0  ...     19e2e  +854AcBQT2  +854AcBQT2\n",
              "1     sms      0  2012-05-07 23:04:06.0  ...     19e2e  +laSrk7g6q  +laSrk7g6q\n",
              "2   Voice     37  2012-05-07 23:04:48.0  ...     19e2e  /xvRrCVKoQ  /xvRrCVKoQ\n",
              "3     sms     25  2012-05-07 23:04:58.0  ...     19e2e  +bO+qkSonO  +bO+qkSonO\n",
              "4     sms      0  2012-05-07 23:05:41.0  ...     19e2e  /MMplBlWjh  /MMplBlWjh\n",
              "\n",
              "[5 rows x 10 columns]"
            ]
          },
          "metadata": {},
          "execution_count": 5
        }
      ]
    },
    {
      "cell_type": "code",
      "metadata": {
        "colab": {
          "base_uri": "https://localhost:8080/",
          "height": 394
        },
        "id": "PcFTo-rOb-Qs",
        "outputId": "9ef70cd5-59e7-44d6-cc76-b40ccad7fce2"
      },
      "source": [
        "#importing CDR 20120509\n",
        "url ='/content/Telcom_dataset3.csv'\n",
        "df_09 = pd.read_csv(url, header =1, names = ['Product','Value','Date_Time','Cell_On_Site','Party_A_Number','Party_B_Number','Country_A','Country_B','Cell_ID','Site_ID'])\n",
        "df_09.head()"
      ],
      "execution_count": 6,
      "outputs": [
        {
          "output_type": "execute_result",
          "data": {
            "text/html": [
              "<div>\n",
              "<style scoped>\n",
              "    .dataframe tbody tr th:only-of-type {\n",
              "        vertical-align: middle;\n",
              "    }\n",
              "\n",
              "    .dataframe tbody tr th {\n",
              "        vertical-align: top;\n",
              "    }\n",
              "\n",
              "    .dataframe thead th {\n",
              "        text-align: right;\n",
              "    }\n",
              "</style>\n",
              "<table border=\"1\" class=\"dataframe\">\n",
              "  <thead>\n",
              "    <tr style=\"text-align: right;\">\n",
              "      <th></th>\n",
              "      <th>Product</th>\n",
              "      <th>Value</th>\n",
              "      <th>Date_Time</th>\n",
              "      <th>Cell_On_Site</th>\n",
              "      <th>Party_A_Number</th>\n",
              "      <th>Party_B_Number</th>\n",
              "      <th>Country_A</th>\n",
              "      <th>Country_B</th>\n",
              "      <th>Cell_ID</th>\n",
              "      <th>Site_ID</th>\n",
              "    </tr>\n",
              "  </thead>\n",
              "  <tbody>\n",
              "    <tr>\n",
              "      <th>0</th>\n",
              "      <td>sms</td>\n",
              "      <td>0</td>\n",
              "      <td>2012-05-08 23:01:31.0</td>\n",
              "      <td>1</td>\n",
              "      <td>a0a597384c612d7</td>\n",
              "      <td>cf3b218f1dde792</td>\n",
              "      <td>19e2e</td>\n",
              "      <td>19e2e</td>\n",
              "      <td>+Fs4mTvdKx</td>\n",
              "      <td>+Fs4mTvdKx</td>\n",
              "    </tr>\n",
              "    <tr>\n",
              "      <th>1</th>\n",
              "      <td>Voice</td>\n",
              "      <td>10</td>\n",
              "      <td>2012-05-08 23:02:59.0</td>\n",
              "      <td>1</td>\n",
              "      <td>5441a9a58c97132</td>\n",
              "      <td>52f8b299515b9b7</td>\n",
              "      <td>19e2e</td>\n",
              "      <td>19e2e</td>\n",
              "      <td>+ZaaZozy/+</td>\n",
              "      <td>+ZaaZozy/+</td>\n",
              "    </tr>\n",
              "    <tr>\n",
              "      <th>2</th>\n",
              "      <td>sms</td>\n",
              "      <td>0</td>\n",
              "      <td>2012-05-08 23:03:04.0</td>\n",
              "      <td>0</td>\n",
              "      <td>8ab8b9ed6989f61</td>\n",
              "      <td>e09e736e46c5c3d</td>\n",
              "      <td>19e2e</td>\n",
              "      <td>19e2e</td>\n",
              "      <td>+cNeJzsTp3</td>\n",
              "      <td>+cNeJzsTp3</td>\n",
              "    </tr>\n",
              "    <tr>\n",
              "      <th>3</th>\n",
              "      <td>Voice</td>\n",
              "      <td>22</td>\n",
              "      <td>2012-05-08 23:03:16.0</td>\n",
              "      <td>4</td>\n",
              "      <td>52662a62b199334</td>\n",
              "      <td>2186273faab4602</td>\n",
              "      <td>19e2e</td>\n",
              "      <td>19e2e</td>\n",
              "      <td>/eeMklgyJA</td>\n",
              "      <td>/eeMklgyJA</td>\n",
              "    </tr>\n",
              "    <tr>\n",
              "      <th>4</th>\n",
              "      <td>Voice</td>\n",
              "      <td>10</td>\n",
              "      <td>2012-05-08 23:03:59.0</td>\n",
              "      <td>0</td>\n",
              "      <td>c572f692ed9d25f</td>\n",
              "      <td>5e6221fa6b35f62</td>\n",
              "      <td>19e2e</td>\n",
              "      <td>19e2e</td>\n",
              "      <td>+e+xcimwre</td>\n",
              "      <td>+e+xcimwre</td>\n",
              "    </tr>\n",
              "  </tbody>\n",
              "</table>\n",
              "</div>"
            ],
            "text/plain": [
              "  Product  Value              Date_Time  ... Country_B     Cell_ID     Site_ID\n",
              "0     sms      0  2012-05-08 23:01:31.0  ...     19e2e  +Fs4mTvdKx  +Fs4mTvdKx\n",
              "1   Voice     10  2012-05-08 23:02:59.0  ...     19e2e  +ZaaZozy/+  +ZaaZozy/+\n",
              "2     sms      0  2012-05-08 23:03:04.0  ...     19e2e  +cNeJzsTp3  +cNeJzsTp3\n",
              "3   Voice     22  2012-05-08 23:03:16.0  ...     19e2e  /eeMklgyJA  /eeMklgyJA\n",
              "4   Voice     10  2012-05-08 23:03:59.0  ...     19e2e  +e+xcimwre  +e+xcimwre\n",
              "\n",
              "[5 rows x 10 columns]"
            ]
          },
          "metadata": {},
          "execution_count": 6
        }
      ]
    },
    {
      "cell_type": "code",
      "metadata": {
        "colab": {
          "base_uri": "https://localhost:8080/"
        },
        "id": "DOf7_Fn1cQVK",
        "outputId": "37be9d18-3ecd-4fac-aa36-87166be62348"
      },
      "source": [
        "#Dataframe information \n",
        "print(df_cells.info())\n",
        "print(df_cells.describe())"
      ],
      "execution_count": 7,
      "outputs": [
        {
          "output_type": "stream",
          "name": "stdout",
          "text": [
            "<class 'pandas.core.frame.DataFrame'>\n",
            "Int64Index: 3973 entries, 1 to 3973\n",
            "Data columns (total 11 columns):\n",
            " #   Column             Non-Null Count  Dtype  \n",
            "---  ------             --------------  -----  \n",
            " 0   City               3973 non-null   object \n",
            " 1   Status             3906 non-null   object \n",
            " 2   Locality           3973 non-null   object \n",
            " 3   Geographical_Zone  3973 non-null   object \n",
            " 4   Zone_Name          3967 non-null   object \n",
            " 5   Longitude          3973 non-null   float64\n",
            " 6   Latitude           3973 non-null   float64\n",
            " 7   Region             3973 non-null   object \n",
            " 8   Area               3951 non-null   object \n",
            " 9   Cell_ID            3973 non-null   object \n",
            " 10  Site_ID            3973 non-null   object \n",
            "dtypes: float64(2), object(9)\n",
            "memory usage: 372.5+ KB\n",
            "None\n",
            "         Longitude     Latitude\n",
            "count  3973.000000  3973.000000\n",
            "mean     -4.877880     6.244970\n",
            "std       1.300861     1.304289\n",
            "min      -8.503889     0.000000\n",
            "25%      -5.846139     5.338639\n",
            "50%      -4.084500     5.475000\n",
            "75%      -3.993444     6.872306\n",
            "max      -0.000000    10.481861\n"
          ]
        }
      ]
    },
    {
      "cell_type": "code",
      "metadata": {
        "colab": {
          "base_uri": "https://localhost:8080/"
        },
        "id": "08tt83YueDL3",
        "outputId": "6d7db544-8c09-4612-8206-65f1b289bbff"
      },
      "source": [
        "#the unique values in the cells of geographical data\n",
        "print (\"Unique Locality \", df_cells.Locality.nunique(), \" out of \" , df_cells.Locality.count())\n",
        "print (\"Unique Area \", df_cells.Area.nunique(), \" out of \" , df_cells.Area.count())\n",
        "print (\"Unique Geographical_Zone \", df_cells.Geographical_Zone.nunique(), \" out of \" , df_cells.Geographical_Zone.count())\n",
        "print (\"Unique Region \", df_cells.Region.nunique(), \" out of \" , df_cells.Region.count())\n",
        "print (\"Unique Zone_Name \", df_cells.Zone_Name.nunique(), \" out of \" , df_cells.Zone_Name.count())\n",
        "print (\"Unique cities \", df_cells.City.nunique(), \" out of \" , df_cells.City.count())\n",
        "print (\"Unique Site_Id \", df_cells.Site_ID.nunique(), \" out of \" , df_cells.Site_ID.count())\n",
        "print (\"Unique Cell_ID \", df_cells.Cell_ID.nunique(), \" out of \" , df_cells.Cell_ID.count())"
      ],
      "execution_count": 8,
      "outputs": [
        {
          "output_type": "stream",
          "name": "stdout",
          "text": [
            "Unique Locality  2  out of  3973\n",
            "Unique Area  6  out of  3951\n",
            "Unique Geographical_Zone  15  out of  3973\n",
            "Unique Region  19  out of  3973\n",
            "Unique Zone_Name  33  out of  3967\n",
            "Unique cities  504  out of  3973\n",
            "Unique Site_Id  1029  out of  3973\n",
            "Unique Cell_ID  3915  out of  3973\n"
          ]
        }
      ]
    },
    {
      "cell_type": "code",
      "metadata": {
        "colab": {
          "base_uri": "https://localhost:8080/"
        },
        "id": "9sxpTJNweeI5",
        "outputId": "936c3e66-c093-4a6c-a403-f21e1e79142e"
      },
      "source": [
        "#checking the status\n",
        "list(df_cells.Status.unique())"
      ],
      "execution_count": 9,
      "outputs": [
        {
          "output_type": "execute_result",
          "data": {
            "text/plain": [
              "['In Service', nan]"
            ]
          },
          "metadata": {},
          "execution_count": 9
        }
      ]
    },
    {
      "cell_type": "code",
      "metadata": {
        "colab": {
          "base_uri": "https://localhost:8080/"
        },
        "id": "jJal6495elMs",
        "outputId": "5d566878-0412-42fa-cc36-e35e344aa526"
      },
      "source": [
        "#checking the null values\n",
        "print(df_cells.isnull().sum())"
      ],
      "execution_count": 10,
      "outputs": [
        {
          "output_type": "stream",
          "name": "stdout",
          "text": [
            "City                  0\n",
            "Status               67\n",
            "Locality              0\n",
            "Geographical_Zone     0\n",
            "Zone_Name             6\n",
            "Longitude             0\n",
            "Latitude              0\n",
            "Region                0\n",
            "Area                 22\n",
            "Cell_ID               0\n",
            "Site_ID               0\n",
            "dtype: int64\n"
          ]
        }
      ]
    },
    {
      "cell_type": "code",
      "metadata": {
        "colab": {
          "base_uri": "https://localhost:8080/"
        },
        "id": "qMW3cHzHezR_",
        "outputId": "8833cd5e-5f9a-479c-ce28-a5209f5150bb"
      },
      "source": [
        "#checking the CDR 07 dataframe information including the null values, descriptive analysis and geographical information\n",
        "print(\"Cells Geographic Information\")\n",
        "print(df_07.info())\n",
        "print(\"Cells Descriptive Statistics\")\n",
        "print(df_07.describe())\n",
        "print(\"Null Values in Cells Dataset\")\n",
        "print(df_07.isnull().sum())"
      ],
      "execution_count": 11,
      "outputs": [
        {
          "output_type": "stream",
          "name": "stdout",
          "text": [
            "Cells Geographic Information\n",
            "<class 'pandas.core.frame.DataFrame'>\n",
            "RangeIndex: 5001 entries, 0 to 5000\n",
            "Data columns (total 10 columns):\n",
            " #   Column          Non-Null Count  Dtype \n",
            "---  ------          --------------  ----- \n",
            " 0   Product         5001 non-null   object\n",
            " 1   Value           5001 non-null   int64 \n",
            " 2   Date_Time       5001 non-null   object\n",
            " 3   Cell_On_Site    5001 non-null   object\n",
            " 4   Party_A_Number  5001 non-null   object\n",
            " 5   Party_B_Number  5001 non-null   object\n",
            " 6   Country_A       5001 non-null   object\n",
            " 7   Country_B       5001 non-null   object\n",
            " 8   Cell_ID         5001 non-null   object\n",
            " 9   Site_ID         4285 non-null   object\n",
            "dtypes: int64(1), object(9)\n",
            "memory usage: 390.8+ KB\n",
            "None\n",
            "Cells Descriptive Statistics\n",
            "             Value\n",
            "count  5001.000000\n",
            "mean     25.869626\n",
            "std     101.934502\n",
            "min       0.000000\n",
            "25%       0.000000\n",
            "50%       0.000000\n",
            "75%      25.000000\n",
            "max    4440.000000\n",
            "Null Values in Cells Dataset\n",
            "Product             0\n",
            "Value               0\n",
            "Date_Time           0\n",
            "Cell_On_Site        0\n",
            "Party_A_Number      0\n",
            "Party_B_Number      0\n",
            "Country_A           0\n",
            "Country_B           0\n",
            "Cell_ID             0\n",
            "Site_ID           716\n",
            "dtype: int64\n"
          ]
        }
      ]
    },
    {
      "cell_type": "code",
      "metadata": {
        "colab": {
          "base_uri": "https://localhost:8080/"
        },
        "id": "BHNnvFtTfFYt",
        "outputId": "0757e818-222a-4e95-e510-68783633a422"
      },
      "source": [
        "#checking the CDR 08 information including the geo info descriptive analysis and null values\n",
        "print(\"08 CDR Geographic Information\")\n",
        "print(df_08.info())\n",
        "print(\"08 CDR Descriptive Statistics\")\n",
        "print(df_08.describe())\n",
        "print(\"Null Values in 08 CDR Dataset\")\n",
        "print(df_08.isnull().sum())"
      ],
      "execution_count": 13,
      "outputs": [
        {
          "output_type": "stream",
          "name": "stdout",
          "text": [
            "08 CDR Geographic Information\n",
            "<class 'pandas.core.frame.DataFrame'>\n",
            "RangeIndex: 5000 entries, 0 to 4999\n",
            "Data columns (total 10 columns):\n",
            " #   Column          Non-Null Count  Dtype \n",
            "---  ------          --------------  ----- \n",
            " 0   Product         5000 non-null   object\n",
            " 1   Value           5000 non-null   int64 \n",
            " 2   Date_Time       5000 non-null   object\n",
            " 3   Cell_On_Site    5000 non-null   object\n",
            " 4   Party_A_Number  5000 non-null   object\n",
            " 5   Party_B_Number  5000 non-null   object\n",
            " 6   Country_A       5000 non-null   object\n",
            " 7   Country_B       5000 non-null   object\n",
            " 8   Cell_ID         5000 non-null   object\n",
            " 9   Site_ID         4324 non-null   object\n",
            "dtypes: int64(1), object(9)\n",
            "memory usage: 390.8+ KB\n",
            "None\n",
            "08 CDR Descriptive Statistics\n",
            "             Value\n",
            "count  5000.000000\n",
            "mean     24.339800\n",
            "std      97.480726\n",
            "min       0.000000\n",
            "25%       0.000000\n",
            "50%       0.000000\n",
            "75%      25.000000\n",
            "max    3380.000000\n",
            "Null Values in 08 CDR Dataset\n",
            "Product             0\n",
            "Value               0\n",
            "Date_Time           0\n",
            "Cell_On_Site        0\n",
            "Party_A_Number      0\n",
            "Party_B_Number      0\n",
            "Country_A           0\n",
            "Country_B           0\n",
            "Cell_ID             0\n",
            "Site_ID           676\n",
            "dtype: int64\n"
          ]
        }
      ]
    },
    {
      "cell_type": "code",
      "metadata": {
        "colab": {
          "base_uri": "https://localhost:8080/"
        },
        "id": "G9dITYAdfzfh",
        "outputId": "d0f72bfb-65c0-4b0c-c3f2-ac24363b9a84"
      },
      "source": [
        "#checkinf the CDR09 information including the geo info, descriptive analysis and null values\n",
        "print(\"09 CDR Geographic Information\")\n",
        "print(df_09.info())\n",
        "print(\"09 CDR Descriptive Statistics\")\n",
        "print(df_09.describe())\n",
        "print(\"Null Values in 09 CDR Dataset\")\n",
        "print(df_09.isnull().sum())"
      ],
      "execution_count": 14,
      "outputs": [
        {
          "output_type": "stream",
          "name": "stdout",
          "text": [
            "09 CDR Geographic Information\n",
            "<class 'pandas.core.frame.DataFrame'>\n",
            "RangeIndex: 5000 entries, 0 to 4999\n",
            "Data columns (total 10 columns):\n",
            " #   Column          Non-Null Count  Dtype \n",
            "---  ------          --------------  ----- \n",
            " 0   Product         5000 non-null   object\n",
            " 1   Value           5000 non-null   int64 \n",
            " 2   Date_Time       5000 non-null   object\n",
            " 3   Cell_On_Site    5000 non-null   object\n",
            " 4   Party_A_Number  5000 non-null   object\n",
            " 5   Party_B_Number  5000 non-null   object\n",
            " 6   Country_A       5000 non-null   object\n",
            " 7   Country_B       5000 non-null   object\n",
            " 8   Cell_ID         5000 non-null   object\n",
            " 9   Site_ID         4395 non-null   object\n",
            "dtypes: int64(1), object(9)\n",
            "memory usage: 390.8+ KB\n",
            "None\n",
            "09 CDR Descriptive Statistics\n",
            "              Value\n",
            "count   5000.000000\n",
            "mean      26.434600\n",
            "std      224.222108\n",
            "min        0.000000\n",
            "25%        0.000000\n",
            "50%        0.000000\n",
            "75%       25.000000\n",
            "max    12900.000000\n",
            "Null Values in 09 CDR Dataset\n",
            "Product             0\n",
            "Value               0\n",
            "Date_Time           0\n",
            "Cell_On_Site        0\n",
            "Party_A_Number      0\n",
            "Party_B_Number      0\n",
            "Country_A           0\n",
            "Country_B           0\n",
            "Cell_ID             0\n",
            "Site_ID           605\n",
            "dtype: int64\n"
          ]
        }
      ]
    },
    {
      "cell_type": "code",
      "metadata": {
        "colab": {
          "base_uri": "https://localhost:8080/"
        },
        "id": "pFwEFCnsgWZ0",
        "outputId": "84767792-e387-4e9a-a153-5f69f524d789"
      },
      "source": [
        "#getting the unique values of the 07 dataset\n",
        "print(\"07 Dataset\")\n",
        "print (\"Unique Country_A \", df_07.Country_A.nunique(), \" out of \" , df_07.Country_A.count())\n",
        "print (\"Unique Country_B \", df_07.Country_B.nunique(), \" out of \" , df_07.Country_B.count())\n",
        "print (\"Unique Product \",   df_07.Product.nunique(),   \" out of \" , df_07.Product.count())\n",
        "print (\"Unique Cell_On_Site \", df_07.Cell_On_Site.nunique(), \" out of \" , df_07.Cell_On_Site.count())\n",
        "print (\"Unique Site_ID \", df_07.Site_ID.nunique(), \" out of \" , df_07.Site_ID.count())\n",
        "print (\"Unique Cell_ID \", df_07.Cell_ID.nunique(), \" out of \" , df_07.Cell_ID.count())\n",
        "print (\"Unique Party_A_Number \", df_07.Party_A_Number.nunique(), \" out of \" , df_07.Party_A_Number.count())\n",
        "print (\"Unique Party_B_Number \", df_07.Party_B_Number.nunique(), \" out of \" , df_07.Party_B_Number.count())"
      ],
      "execution_count": 15,
      "outputs": [
        {
          "output_type": "stream",
          "name": "stdout",
          "text": [
            "07 Dataset\n",
            "Unique Country_A  1  out of  5001\n",
            "Unique Country_B  2  out of  5001\n",
            "Unique Product  3  out of  5001\n",
            "Unique Cell_On_Site  7  out of  5001\n",
            "Unique Site_ID  1076  out of  4285\n",
            "Unique Cell_ID  1790  out of  5001\n",
            "Unique Party_A_Number  3903  out of  5001\n",
            "Unique Party_B_Number  2848  out of  5001\n"
          ]
        }
      ]
    },
    {
      "cell_type": "code",
      "metadata": {
        "colab": {
          "base_uri": "https://localhost:8080/"
        },
        "id": "HHj4pozUgpjT",
        "outputId": "a0fa09f7-8c79-4745-c02a-fe2c02206b5e"
      },
      "source": [
        "#getting the unique values of the 08 dataset\n",
        "print(\"08 Dataset\")\n",
        "print (\"Unique Country_A \", df_08.Country_A.nunique(), \" out of \" , df_08.Country_A.count())\n",
        "print (\"Unique Country_B \", df_08.Country_B.nunique(), \" out of \" , df_08.Country_B.count())\n",
        "print (\"Unique Product \",   df_08.Product.nunique(),   \" out of \" , df_08.Product.count())\n",
        "print (\"Unique Cell_On_Site \", df_08.Cell_On_Site.nunique(), \" out of \" , df_08.Cell_On_Site.count())\n",
        "print (\"Unique Site_ID \", df_08.Site_ID.nunique(), \" out of \" , df_08.Site_ID.count())\n",
        "print (\"Unique Cell_ID \", df_08.Cell_ID.nunique(), \" out of \" , df_08.Cell_ID.count())\n",
        "print (\"Unique Party_A_Number \", df_08.Party_A_Number.nunique(), \" out of \" , df_08.Party_A_Number.count())\n",
        "print (\"Unique Party_B_Number \", df_08.Party_B_Number.nunique(), \" out of \" , df_08.Party_B_Number.count())"
      ],
      "execution_count": 16,
      "outputs": [
        {
          "output_type": "stream",
          "name": "stdout",
          "text": [
            "08 Dataset\n",
            "Unique Country_A  1  out of  5000\n",
            "Unique Country_B  2  out of  5000\n",
            "Unique Product  3  out of  5000\n",
            "Unique Cell_On_Site  8  out of  5000\n",
            "Unique Site_ID  1027  out of  4324\n",
            "Unique Cell_ID  1661  out of  5000\n",
            "Unique Party_A_Number  3799  out of  5000\n",
            "Unique Party_B_Number  2882  out of  5000\n"
          ]
        }
      ]
    },
    {
      "cell_type": "code",
      "metadata": {
        "colab": {
          "base_uri": "https://localhost:8080/"
        },
        "id": "-68AmmM1gzkW",
        "outputId": "3481d39f-49cb-416d-b214-1c597fefc6a7"
      },
      "source": [
        "#getting the unique values of the 09 dataset\n",
        "print(\"09 Dataset\")\n",
        "print (\"Unique Country_A \", df_09.Country_A.nunique(), \" out of \" , df_09.Country_A.count())\n",
        "print (\"Unique Country_B \", df_09.Country_B.nunique(), \" out of \" , df_09.Country_B.count())\n",
        "print (\"Unique Product \",   df_09.Product.nunique(),   \" out of \" , df_09.Product.count())\n",
        "print (\"Unique Cell_On_Site \", df_09.Cell_On_Site.nunique(), \" out of \" , df_09.Cell_On_Site.count())\n",
        "print (\"Unique Site_ID \", df_09.Site_ID.nunique(), \" out of \" , df_09.Site_ID.count())\n",
        "print (\"Unique Cell_ID \", df_09.Cell_ID.nunique(), \" out of \" , df_09.Cell_ID.count())\n",
        "print (\"Unique Party_A_Number \", df_09.Party_A_Number.nunique(), \" out of \" , df_09.Party_A_Number.count())\n",
        "print (\"Unique Party_B_Number \", df_09.Party_B_Number.nunique(), \" out of \" , df_09.Party_B_Number.count())"
      ],
      "execution_count": 17,
      "outputs": [
        {
          "output_type": "stream",
          "name": "stdout",
          "text": [
            "09 Dataset\n",
            "Unique Country_A  1  out of  5000\n",
            "Unique Country_B  2  out of  5000\n",
            "Unique Product  3  out of  5000\n",
            "Unique Cell_On_Site  9  out of  5000\n",
            "Unique Site_ID  961  out of  4395\n",
            "Unique Cell_ID  1596  out of  5000\n",
            "Unique Party_A_Number  3593  out of  5000\n",
            "Unique Party_B_Number  2895  out of  5000\n"
          ]
        }
      ]
    },
    {
      "cell_type": "code",
      "metadata": {
        "colab": {
          "base_uri": "https://localhost:8080/",
          "height": 394
        },
        "id": "PEZLnj1eg-D6",
        "outputId": "19c43c19-8f2b-4232-99c6-e69a0ba1dda7"
      },
      "source": [
        "#getting the data from dataset in 07\n",
        "df_07.head()"
      ],
      "execution_count": 18,
      "outputs": [
        {
          "output_type": "execute_result",
          "data": {
            "text/html": [
              "<div>\n",
              "<style scoped>\n",
              "    .dataframe tbody tr th:only-of-type {\n",
              "        vertical-align: middle;\n",
              "    }\n",
              "\n",
              "    .dataframe tbody tr th {\n",
              "        vertical-align: top;\n",
              "    }\n",
              "\n",
              "    .dataframe thead th {\n",
              "        text-align: right;\n",
              "    }\n",
              "</style>\n",
              "<table border=\"1\" class=\"dataframe\">\n",
              "  <thead>\n",
              "    <tr style=\"text-align: right;\">\n",
              "      <th></th>\n",
              "      <th>Product</th>\n",
              "      <th>Value</th>\n",
              "      <th>Date_Time</th>\n",
              "      <th>Cell_On_Site</th>\n",
              "      <th>Party_A_Number</th>\n",
              "      <th>Party_B_Number</th>\n",
              "      <th>Country_A</th>\n",
              "      <th>Country_B</th>\n",
              "      <th>Cell_ID</th>\n",
              "      <th>Site_ID</th>\n",
              "    </tr>\n",
              "  </thead>\n",
              "  <tbody>\n",
              "    <tr>\n",
              "      <th>0</th>\n",
              "      <td>Voice</td>\n",
              "      <td>0</td>\n",
              "      <td>2012-05-06 23:04:37.0</td>\n",
              "      <td>1</td>\n",
              "      <td>49fae048b547780</td>\n",
              "      <td>1a49f8b0ded9de6</td>\n",
              "      <td>19e2e</td>\n",
              "      <td>19e2e</td>\n",
              "      <td>/TJNe+Mmtu</td>\n",
              "      <td>/TJNe+Mmtu</td>\n",
              "    </tr>\n",
              "    <tr>\n",
              "      <th>1</th>\n",
              "      <td>sms</td>\n",
              "      <td>0</td>\n",
              "      <td>2012-05-06 23:05:25.0</td>\n",
              "      <td>0</td>\n",
              "      <td>7a54a6eaee19e65</td>\n",
              "      <td>93343ba6e41af95</td>\n",
              "      <td>19e2e</td>\n",
              "      <td>19e2e</td>\n",
              "      <td>/+cKZKIp41</td>\n",
              "      <td>/+cKZKIp41</td>\n",
              "    </tr>\n",
              "    <tr>\n",
              "      <th>2</th>\n",
              "      <td>sms</td>\n",
              "      <td>25</td>\n",
              "      <td>2012-05-06 23:05:41.0</td>\n",
              "      <td>0</td>\n",
              "      <td>6008887b0207d82</td>\n",
              "      <td>7aacc9709ce0a20</td>\n",
              "      <td>19e2e</td>\n",
              "      <td>19e2e</td>\n",
              "      <td>/u0FSD+ahi</td>\n",
              "      <td>/u0FSD+ahi</td>\n",
              "    </tr>\n",
              "    <tr>\n",
              "      <th>3</th>\n",
              "      <td>Voice</td>\n",
              "      <td>56</td>\n",
              "      <td>2012-05-06 23:05:42.0</td>\n",
              "      <td>1</td>\n",
              "      <td>7370032e20f4e96</td>\n",
              "      <td>6af4a60e74c91d3</td>\n",
              "      <td>19e2e</td>\n",
              "      <td>19e2e</td>\n",
              "      <td>+cNeJzsTp3</td>\n",
              "      <td>+cNeJzsTp3</td>\n",
              "    </tr>\n",
              "    <tr>\n",
              "      <th>4</th>\n",
              "      <td>Voice</td>\n",
              "      <td>14</td>\n",
              "      <td>2012-05-06 23:06:29.0</td>\n",
              "      <td>1</td>\n",
              "      <td>966ba4656e38e62</td>\n",
              "      <td>02aa736ee555d5c</td>\n",
              "      <td>19e2e</td>\n",
              "      <td>19e2e</td>\n",
              "      <td>051KhYDCpv</td>\n",
              "      <td>051KhYDCpv</td>\n",
              "    </tr>\n",
              "  </tbody>\n",
              "</table>\n",
              "</div>"
            ],
            "text/plain": [
              "  Product  Value              Date_Time  ... Country_B     Cell_ID     Site_ID\n",
              "0   Voice      0  2012-05-06 23:04:37.0  ...     19e2e  /TJNe+Mmtu  /TJNe+Mmtu\n",
              "1     sms      0  2012-05-06 23:05:25.0  ...     19e2e  /+cKZKIp41  /+cKZKIp41\n",
              "2     sms     25  2012-05-06 23:05:41.0  ...     19e2e  /u0FSD+ahi  /u0FSD+ahi\n",
              "3   Voice     56  2012-05-06 23:05:42.0  ...     19e2e  +cNeJzsTp3  +cNeJzsTp3\n",
              "4   Voice     14  2012-05-06 23:06:29.0  ...     19e2e  051KhYDCpv  051KhYDCpv\n",
              "\n",
              "[5 rows x 10 columns]"
            ]
          },
          "metadata": {},
          "execution_count": 18
        }
      ]
    },
    {
      "cell_type": "code",
      "metadata": {
        "colab": {
          "base_uri": "https://localhost:8080/"
        },
        "id": "dLbyNso4hoj2",
        "outputId": "01ce02f3-c62a-4eb0-b8ce-7ca56599c784"
      },
      "source": [
        "#checking for duplicates in 07\n",
        "print(df_07[df_07.duplicated(keep=False)])"
      ],
      "execution_count": 19,
      "outputs": [
        {
          "output_type": "stream",
          "name": "stdout",
          "text": [
            "     Product  Value              Date_Time  ... Country_B     Cell_ID     Site_ID\n",
            "765      sms      0  2012-05-07 00:00:03.0  ...     19e2e  23c5372bd3  e942f32a29\n",
            "769      sms     25  2012-05-07 00:00:03.0  ...     19e2e  a6606f4ac1  c6400e443f\n",
            "793      sms      0  2012-05-07 00:00:03.0  ...     19e2e  23c5372bd3  e942f32a29\n",
            "794      sms     25  2012-05-07 00:00:03.0  ...     19e2e  a6606f4ac1  c6400e443f\n",
            "795    Voice      0  2012-05-07 00:00:04.0  ...     19e2e  4a7047f1ba  dea1e52d3b\n",
            "...      ...    ...                    ...  ...       ...         ...         ...\n",
            "4864   Voice   1610  2012-05-07 00:01:50.0  ...     19e2e  89b82605a0  5324bc6c24\n",
            "4932   Voice      0  2012-05-07 00:01:52.0  ...     19e2e  d6abb7e15f  f72cd95f00\n",
            "4943   Voice      0  2012-05-07 00:01:52.0  ...     19e2e  d6abb7e15f  f72cd95f00\n",
            "4944   Voice     60  2012-05-07 00:01:53.0  ...     19e2e  fd754bd0d0  e82c07d996\n",
            "4970   Voice     60  2012-05-07 00:01:53.0  ...     19e2e  fd754bd0d0  e82c07d996\n",
            "\n",
            "[164 rows x 10 columns]\n"
          ]
        }
      ]
    },
    {
      "cell_type": "code",
      "metadata": {
        "colab": {
          "base_uri": "https://localhost:8080/"
        },
        "id": "5s4ei8hNhzjH",
        "outputId": "57be11ef-843e-4e83-c804-686d1f99c355"
      },
      "source": [
        "#combining the CDR datasets\n",
        "df_cdr = pd.concat([df_07,df_08,df_09], axis=0)\n",
        "df_cdr.info()"
      ],
      "execution_count": 20,
      "outputs": [
        {
          "output_type": "stream",
          "name": "stdout",
          "text": [
            "<class 'pandas.core.frame.DataFrame'>\n",
            "Int64Index: 15001 entries, 0 to 4999\n",
            "Data columns (total 10 columns):\n",
            " #   Column          Non-Null Count  Dtype \n",
            "---  ------          --------------  ----- \n",
            " 0   Product         15001 non-null  object\n",
            " 1   Value           15001 non-null  int64 \n",
            " 2   Date_Time       15001 non-null  object\n",
            " 3   Cell_On_Site    15001 non-null  object\n",
            " 4   Party_A_Number  15001 non-null  object\n",
            " 5   Party_B_Number  15001 non-null  object\n",
            " 6   Country_A       15001 non-null  object\n",
            " 7   Country_B       15001 non-null  object\n",
            " 8   Cell_ID         15001 non-null  object\n",
            " 9   Site_ID         13004 non-null  object\n",
            "dtypes: int64(1), object(9)\n",
            "memory usage: 1.3+ MB\n"
          ]
        }
      ]
    },
    {
      "cell_type": "code",
      "metadata": {
        "colab": {
          "base_uri": "https://localhost:8080/"
        },
        "id": "XXsAM083iDmA",
        "outputId": "13c62e52-0e9c-420f-d322-cb38adc2cddc"
      },
      "source": [
        "#changing the data types of the date columns which are storing date values to date for ease calculation\n",
        "df_cdr['Date_Time'] = pd.to_datetime(df_cdr['Date_Time'])\n",
        "df_cdr.info()"
      ],
      "execution_count": 21,
      "outputs": [
        {
          "output_type": "stream",
          "name": "stdout",
          "text": [
            "<class 'pandas.core.frame.DataFrame'>\n",
            "Int64Index: 15001 entries, 0 to 4999\n",
            "Data columns (total 10 columns):\n",
            " #   Column          Non-Null Count  Dtype         \n",
            "---  ------          --------------  -----         \n",
            " 0   Product         15001 non-null  object        \n",
            " 1   Value           15001 non-null  int64         \n",
            " 2   Date_Time       15001 non-null  datetime64[ns]\n",
            " 3   Cell_On_Site    15001 non-null  object        \n",
            " 4   Party_A_Number  15001 non-null  object        \n",
            " 5   Party_B_Number  15001 non-null  object        \n",
            " 6   Country_A       15001 non-null  object        \n",
            " 7   Country_B       15001 non-null  object        \n",
            " 8   Cell_ID         15001 non-null  object        \n",
            " 9   Site_ID         13004 non-null  object        \n",
            "dtypes: datetime64[ns](1), int64(1), object(8)\n",
            "memory usage: 1.3+ MB\n"
          ]
        }
      ]
    },
    {
      "cell_type": "code",
      "metadata": {
        "colab": {
          "base_uri": "https://localhost:8080/",
          "height": 419
        },
        "id": "CcLBEDn4igLK",
        "outputId": "48ad9682-11b2-455a-ceb4-a12b07a56dca"
      },
      "source": [
        "#deleting some columns that we do not require\n",
        "df_cdr.drop(['Country_A', 'Country_B'], axis=1)"
      ],
      "execution_count": 22,
      "outputs": [
        {
          "output_type": "execute_result",
          "data": {
            "text/html": [
              "<div>\n",
              "<style scoped>\n",
              "    .dataframe tbody tr th:only-of-type {\n",
              "        vertical-align: middle;\n",
              "    }\n",
              "\n",
              "    .dataframe tbody tr th {\n",
              "        vertical-align: top;\n",
              "    }\n",
              "\n",
              "    .dataframe thead th {\n",
              "        text-align: right;\n",
              "    }\n",
              "</style>\n",
              "<table border=\"1\" class=\"dataframe\">\n",
              "  <thead>\n",
              "    <tr style=\"text-align: right;\">\n",
              "      <th></th>\n",
              "      <th>Product</th>\n",
              "      <th>Value</th>\n",
              "      <th>Date_Time</th>\n",
              "      <th>Cell_On_Site</th>\n",
              "      <th>Party_A_Number</th>\n",
              "      <th>Party_B_Number</th>\n",
              "      <th>Cell_ID</th>\n",
              "      <th>Site_ID</th>\n",
              "    </tr>\n",
              "  </thead>\n",
              "  <tbody>\n",
              "    <tr>\n",
              "      <th>0</th>\n",
              "      <td>Voice</td>\n",
              "      <td>0</td>\n",
              "      <td>2012-05-06 23:04:37</td>\n",
              "      <td>1</td>\n",
              "      <td>49fae048b547780</td>\n",
              "      <td>1a49f8b0ded9de6</td>\n",
              "      <td>/TJNe+Mmtu</td>\n",
              "      <td>/TJNe+Mmtu</td>\n",
              "    </tr>\n",
              "    <tr>\n",
              "      <th>1</th>\n",
              "      <td>sms</td>\n",
              "      <td>0</td>\n",
              "      <td>2012-05-06 23:05:25</td>\n",
              "      <td>0</td>\n",
              "      <td>7a54a6eaee19e65</td>\n",
              "      <td>93343ba6e41af95</td>\n",
              "      <td>/+cKZKIp41</td>\n",
              "      <td>/+cKZKIp41</td>\n",
              "    </tr>\n",
              "    <tr>\n",
              "      <th>2</th>\n",
              "      <td>sms</td>\n",
              "      <td>25</td>\n",
              "      <td>2012-05-06 23:05:41</td>\n",
              "      <td>0</td>\n",
              "      <td>6008887b0207d82</td>\n",
              "      <td>7aacc9709ce0a20</td>\n",
              "      <td>/u0FSD+ahi</td>\n",
              "      <td>/u0FSD+ahi</td>\n",
              "    </tr>\n",
              "    <tr>\n",
              "      <th>3</th>\n",
              "      <td>Voice</td>\n",
              "      <td>56</td>\n",
              "      <td>2012-05-06 23:05:42</td>\n",
              "      <td>1</td>\n",
              "      <td>7370032e20f4e96</td>\n",
              "      <td>6af4a60e74c91d3</td>\n",
              "      <td>+cNeJzsTp3</td>\n",
              "      <td>+cNeJzsTp3</td>\n",
              "    </tr>\n",
              "    <tr>\n",
              "      <th>4</th>\n",
              "      <td>Voice</td>\n",
              "      <td>14</td>\n",
              "      <td>2012-05-06 23:06:29</td>\n",
              "      <td>1</td>\n",
              "      <td>966ba4656e38e62</td>\n",
              "      <td>02aa736ee555d5c</td>\n",
              "      <td>051KhYDCpv</td>\n",
              "      <td>051KhYDCpv</td>\n",
              "    </tr>\n",
              "    <tr>\n",
              "      <th>...</th>\n",
              "      <td>...</td>\n",
              "      <td>...</td>\n",
              "      <td>...</td>\n",
              "      <td>...</td>\n",
              "      <td>...</td>\n",
              "      <td>...</td>\n",
              "      <td>...</td>\n",
              "      <td>...</td>\n",
              "    </tr>\n",
              "    <tr>\n",
              "      <th>4995</th>\n",
              "      <td>Voice</td>\n",
              "      <td>0</td>\n",
              "      <td>2012-05-09 00:01:43</td>\n",
              "      <td>3</td>\n",
              "      <td>467333ade2b4b9c</td>\n",
              "      <td>0ab2acd804d01fe</td>\n",
              "      <td>2aa04dcab7</td>\n",
              "      <td>f7d63a29e5</td>\n",
              "    </tr>\n",
              "    <tr>\n",
              "      <th>4996</th>\n",
              "      <td>Voice</td>\n",
              "      <td>62</td>\n",
              "      <td>2012-05-09 00:01:43</td>\n",
              "      <td>1</td>\n",
              "      <td>e077a6b74c5053c</td>\n",
              "      <td>4c8098eb6ea1a41</td>\n",
              "      <td>7f1f2f889f</td>\n",
              "      <td>b4ddb9e93c</td>\n",
              "    </tr>\n",
              "    <tr>\n",
              "      <th>4997</th>\n",
              "      <td>Voice</td>\n",
              "      <td>32</td>\n",
              "      <td>2012-05-09 00:01:43</td>\n",
              "      <td>1</td>\n",
              "      <td>77f53c39d27c050</td>\n",
              "      <td>9d064f013e2cab2</td>\n",
              "      <td>a4731e780e</td>\n",
              "      <td>d68260ef50</td>\n",
              "    </tr>\n",
              "    <tr>\n",
              "      <th>4998</th>\n",
              "      <td>Voice</td>\n",
              "      <td>30</td>\n",
              "      <td>2012-05-09 00:01:43</td>\n",
              "      <td>2</td>\n",
              "      <td>672ce74c418aa7a</td>\n",
              "      <td>f9ff5af59cf0d68</td>\n",
              "      <td>98ed726da2</td>\n",
              "      <td>b4130b54ab</td>\n",
              "    </tr>\n",
              "    <tr>\n",
              "      <th>4999</th>\n",
              "      <td>Voice</td>\n",
              "      <td>60</td>\n",
              "      <td>2012-05-09 00:01:43</td>\n",
              "      <td>2</td>\n",
              "      <td>6edeb4c55714650</td>\n",
              "      <td>7e60838216482a7</td>\n",
              "      <td>1c11a2fcbb</td>\n",
              "      <td>6d70dae094</td>\n",
              "    </tr>\n",
              "  </tbody>\n",
              "</table>\n",
              "<p>15001 rows × 8 columns</p>\n",
              "</div>"
            ],
            "text/plain": [
              "     Product  Value  ...     Cell_ID     Site_ID\n",
              "0      Voice      0  ...  /TJNe+Mmtu  /TJNe+Mmtu\n",
              "1        sms      0  ...  /+cKZKIp41  /+cKZKIp41\n",
              "2        sms     25  ...  /u0FSD+ahi  /u0FSD+ahi\n",
              "3      Voice     56  ...  +cNeJzsTp3  +cNeJzsTp3\n",
              "4      Voice     14  ...  051KhYDCpv  051KhYDCpv\n",
              "...      ...    ...  ...         ...         ...\n",
              "4995   Voice      0  ...  2aa04dcab7  f7d63a29e5\n",
              "4996   Voice     62  ...  7f1f2f889f  b4ddb9e93c\n",
              "4997   Voice     32  ...  a4731e780e  d68260ef50\n",
              "4998   Voice     30  ...  98ed726da2  b4130b54ab\n",
              "4999   Voice     60  ...  1c11a2fcbb  6d70dae094\n",
              "\n",
              "[15001 rows x 8 columns]"
            ]
          },
          "metadata": {},
          "execution_count": 22
        }
      ]
    },
    {
      "cell_type": "code",
      "metadata": {
        "colab": {
          "base_uri": "https://localhost:8080/"
        },
        "id": "FGbogEc5iwPJ",
        "outputId": "3e5b8ec6-135c-48b5-a872-b537ff1cb138"
      },
      "source": [
        "#deleting duplicates\n",
        "df_cdr = df_cdr.drop_duplicates()\n",
        "df_cdr.info()"
      ],
      "execution_count": 23,
      "outputs": [
        {
          "output_type": "stream",
          "name": "stdout",
          "text": [
            "<class 'pandas.core.frame.DataFrame'>\n",
            "Int64Index: 14748 entries, 0 to 4999\n",
            "Data columns (total 10 columns):\n",
            " #   Column          Non-Null Count  Dtype         \n",
            "---  ------          --------------  -----         \n",
            " 0   Product         14748 non-null  object        \n",
            " 1   Value           14748 non-null  int64         \n",
            " 2   Date_Time       14748 non-null  datetime64[ns]\n",
            " 3   Cell_On_Site    14748 non-null  object        \n",
            " 4   Party_A_Number  14748 non-null  object        \n",
            " 5   Party_B_Number  14748 non-null  object        \n",
            " 6   Country_A       14748 non-null  object        \n",
            " 7   Country_B       14748 non-null  object        \n",
            " 8   Cell_ID         14748 non-null  object        \n",
            " 9   Site_ID         12787 non-null  object        \n",
            "dtypes: datetime64[ns](1), int64(1), object(8)\n",
            "memory usage: 1.2+ MB\n"
          ]
        }
      ]
    },
    {
      "cell_type": "code",
      "metadata": {
        "colab": {
          "base_uri": "https://localhost:8080/"
        },
        "id": "_5dkK3uijL4U",
        "outputId": "89b6d568-8a67-4311-83b6-3c149422e247"
      },
      "source": [
        "#merging CDR and cell data\n",
        "\n",
        "df_cdr_cells = pd.merge(df_cdr,df_cells, how='inner', on=['Cell_ID'])\n",
        "df_cdr_cells.info()"
      ],
      "execution_count": 24,
      "outputs": [
        {
          "output_type": "stream",
          "name": "stdout",
          "text": [
            "<class 'pandas.core.frame.DataFrame'>\n",
            "Index: 0 entries\n",
            "Data columns (total 20 columns):\n",
            " #   Column             Non-Null Count  Dtype         \n",
            "---  ------             --------------  -----         \n",
            " 0   Product            0 non-null      object        \n",
            " 1   Value              0 non-null      int64         \n",
            " 2   Date_Time          0 non-null      datetime64[ns]\n",
            " 3   Cell_On_Site       0 non-null      object        \n",
            " 4   Party_A_Number     0 non-null      object        \n",
            " 5   Party_B_Number     0 non-null      object        \n",
            " 6   Country_A          0 non-null      object        \n",
            " 7   Country_B          0 non-null      object        \n",
            " 8   Cell_ID            0 non-null      object        \n",
            " 9   Site_ID_x          0 non-null      object        \n",
            " 10  City               0 non-null      object        \n",
            " 11  Status             0 non-null      object        \n",
            " 12  Locality           0 non-null      object        \n",
            " 13  Geographical_Zone  0 non-null      object        \n",
            " 14  Zone_Name          0 non-null      object        \n",
            " 15  Longitude          0 non-null      float64       \n",
            " 16  Latitude           0 non-null      float64       \n",
            " 17  Region             0 non-null      object        \n",
            " 18  Area               0 non-null      object        \n",
            " 19  Site_ID_y          0 non-null      object        \n",
            "dtypes: datetime64[ns](1), float64(2), int64(1), object(16)\n",
            "memory usage: 0.0+ bytes\n"
          ]
        }
      ]
    },
    {
      "cell_type": "code",
      "metadata": {
        "colab": {
          "base_uri": "https://localhost:8080/",
          "height": 235
        },
        "id": "gf-UcbBQjerk",
        "outputId": "2ad8d1ce-00ba-4572-e432-b0efabf3247f"
      },
      "source": [
        "#city with most calls over the past 3 days\n",
        "#we will count the number of calls per city and the one with the maximum number is the most used city\n",
        "df_cdr.groupby('Cell_ID').count().nlargest(5,'Product')"
      ],
      "execution_count": 25,
      "outputs": [
        {
          "output_type": "execute_result",
          "data": {
            "text/html": [
              "<div>\n",
              "<style scoped>\n",
              "    .dataframe tbody tr th:only-of-type {\n",
              "        vertical-align: middle;\n",
              "    }\n",
              "\n",
              "    .dataframe tbody tr th {\n",
              "        vertical-align: top;\n",
              "    }\n",
              "\n",
              "    .dataframe thead th {\n",
              "        text-align: right;\n",
              "    }\n",
              "</style>\n",
              "<table border=\"1\" class=\"dataframe\">\n",
              "  <thead>\n",
              "    <tr style=\"text-align: right;\">\n",
              "      <th></th>\n",
              "      <th>Product</th>\n",
              "      <th>Value</th>\n",
              "      <th>Date_Time</th>\n",
              "      <th>Cell_On_Site</th>\n",
              "      <th>Party_A_Number</th>\n",
              "      <th>Party_B_Number</th>\n",
              "      <th>Country_A</th>\n",
              "      <th>Country_B</th>\n",
              "      <th>Site_ID</th>\n",
              "    </tr>\n",
              "    <tr>\n",
              "      <th>Cell_ID</th>\n",
              "      <th></th>\n",
              "      <th></th>\n",
              "      <th></th>\n",
              "      <th></th>\n",
              "      <th></th>\n",
              "      <th></th>\n",
              "      <th></th>\n",
              "      <th></th>\n",
              "      <th></th>\n",
              "    </tr>\n",
              "  </thead>\n",
              "  <tbody>\n",
              "    <tr>\n",
              "      <th>ffa6759bb2</th>\n",
              "      <td>1960</td>\n",
              "      <td>1960</td>\n",
              "      <td>1960</td>\n",
              "      <td>1960</td>\n",
              "      <td>1960</td>\n",
              "      <td>1960</td>\n",
              "      <td>1960</td>\n",
              "      <td>1960</td>\n",
              "      <td>0</td>\n",
              "    </tr>\n",
              "    <tr>\n",
              "      <th>03ee801971</th>\n",
              "      <td>73</td>\n",
              "      <td>73</td>\n",
              "      <td>73</td>\n",
              "      <td>73</td>\n",
              "      <td>73</td>\n",
              "      <td>73</td>\n",
              "      <td>73</td>\n",
              "      <td>73</td>\n",
              "      <td>73</td>\n",
              "    </tr>\n",
              "    <tr>\n",
              "      <th>cc7ce19d6b</th>\n",
              "      <td>65</td>\n",
              "      <td>65</td>\n",
              "      <td>65</td>\n",
              "      <td>65</td>\n",
              "      <td>65</td>\n",
              "      <td>65</td>\n",
              "      <td>65</td>\n",
              "      <td>65</td>\n",
              "      <td>65</td>\n",
              "    </tr>\n",
              "    <tr>\n",
              "      <th>b78724d6fc</th>\n",
              "      <td>42</td>\n",
              "      <td>42</td>\n",
              "      <td>42</td>\n",
              "      <td>42</td>\n",
              "      <td>42</td>\n",
              "      <td>42</td>\n",
              "      <td>42</td>\n",
              "      <td>42</td>\n",
              "      <td>42</td>\n",
              "    </tr>\n",
              "    <tr>\n",
              "      <th>d22224b2fa</th>\n",
              "      <td>40</td>\n",
              "      <td>40</td>\n",
              "      <td>40</td>\n",
              "      <td>40</td>\n",
              "      <td>40</td>\n",
              "      <td>40</td>\n",
              "      <td>40</td>\n",
              "      <td>40</td>\n",
              "      <td>40</td>\n",
              "    </tr>\n",
              "  </tbody>\n",
              "</table>\n",
              "</div>"
            ],
            "text/plain": [
              "            Product  Value  Date_Time  ...  Country_A  Country_B  Site_ID\n",
              "Cell_ID                                ...                               \n",
              "ffa6759bb2     1960   1960       1960  ...       1960       1960        0\n",
              "03ee801971       73     73         73  ...         73         73       73\n",
              "cc7ce19d6b       65     65         65  ...         65         65       65\n",
              "b78724d6fc       42     42         42  ...         42         42       42\n",
              "d22224b2fa       40     40         40  ...         40         40       40\n",
              "\n",
              "[5 rows x 9 columns]"
            ]
          },
          "metadata": {},
          "execution_count": 25
        }
      ]
    },
    {
      "cell_type": "code",
      "metadata": {
        "colab": {
          "base_uri": "https://localhost:8080/"
        },
        "id": "oAV2T7Kfj5GP",
        "outputId": "9043bfef-7bc1-4ca3-908d-85a806a169c9"
      },
      "source": [
        "#cities that were mostly used between business days and home days\n",
        "df_cdr.groupby('Product')['Value'].sum()"
      ],
      "execution_count": 26,
      "outputs": [
        {
          "output_type": "execute_result",
          "data": {
            "text/plain": [
              "Product\n",
              "Voice    306655\n",
              "data      17285\n",
              "sms       52377\n",
              "Name: Value, dtype: int64"
            ]
          },
          "metadata": {},
          "execution_count": 26
        }
      ]
    },
    {
      "cell_type": "code",
      "metadata": {
        "colab": {
          "base_uri": "https://localhost:8080/"
        },
        "id": "SOv1a8J6kLlb",
        "outputId": "2b0c65e6-b04d-4e1b-d594-553cbba79b8e"
      },
      "source": [
        "#busiest time of the day\n",
        "#cell with the most income\n",
        "df_cdr.groupby('Site_ID')['Value'].sum()"
      ],
      "execution_count": 27,
      "outputs": [
        {
          "output_type": "execute_result",
          "data": {
            "text/plain": [
              "Site_ID\n",
              "++ctND+jGD    134\n",
              "+38u2u/rfx    186\n",
              "+854AcBQT2    154\n",
              "+Fs4mTvdKx     31\n",
              "+QZ9qRtNxA     55\n",
              "             ... \n",
              "feffc8c92b    297\n",
              "ff1b78ec81    322\n",
              "ffa6bdc032    499\n",
              "ffc9f56819    177\n",
              "fff5ac6e3f     28\n",
              "Name: Value, Length: 1357, dtype: int64"
            ]
          },
          "metadata": {},
          "execution_count": 27
        }
      ]
    },
    {
      "cell_type": "code",
      "metadata": {
        "id": "4pFOYb-FkY5B"
      },
      "source": [
        ""
      ],
      "execution_count": null,
      "outputs": []
    }
  ]
}